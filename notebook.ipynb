{
 "cells": [
  {
   "cell_type": "code",
   "execution_count": 1,
   "metadata": {},
   "outputs": [],
   "source": [
    "from die import Die"
   ]
  },
  {
   "cell_type": "code",
   "execution_count": 2,
   "metadata": {},
   "outputs": [],
   "source": [
    "# Create a D6 die.\n",
    "die = Die()"
   ]
  },
  {
   "cell_type": "code",
   "execution_count": 3,
   "metadata": {},
   "outputs": [
    {
     "data": {
      "text/plain": [
       "<die.Die at 0x269481f5de0>"
      ]
     },
     "execution_count": 3,
     "metadata": {},
     "output_type": "execute_result"
    }
   ],
   "source": [
    "die"
   ]
  },
  {
   "cell_type": "code",
   "execution_count": 5,
   "metadata": {},
   "outputs": [
    {
     "name": "stdout",
     "output_type": "stream",
     "text": [
      "[2, 4, 2, 6, 1, 3, 5, 4, 5, 4, 3, 6, 1, 3, 5, 2, 1, 2, 3, 3, 5, 3, 4, 5, 1, 2, 1, 4, 6, 4, 5, 1, 6, 1, 4, 2, 3, 3, 3, 2, 2, 4, 4, 5, 2, 2, 3, 5, 5, 6, 2, 5, 3, 4, 2, 1, 1, 4, 2, 3, 3, 3, 2, 6, 3, 1, 1, 1, 3, 3, 4, 2, 1, 2, 4, 2, 1, 1, 3, 1, 6, 3, 5, 5, 6, 3, 6, 5, 5, 6, 5, 4, 1, 5, 4, 5, 3, 6, 1, 6]\n"
     ]
    }
   ],
   "source": [
    "# Roll D6 a 100 times and store results in a list.\n",
    "results = []\n",
    "for roll_num in range(100):\n",
    "    result = die.roll()\n",
    "    results.append(result)\n",
    "\n",
    "print(results)"
   ]
  },
  {
   "cell_type": "code",
   "execution_count": null,
   "metadata": {},
   "outputs": [],
   "source": []
  }
 ],
 "metadata": {
  "kernelspec": {
   "display_name": "Python 3.10.6",
   "language": "python",
   "name": "python3"
  },
  "language_info": {
   "codemirror_mode": {
    "name": "ipython",
    "version": 3
   },
   "file_extension": ".py",
   "mimetype": "text/x-python",
   "name": "python",
   "nbconvert_exporter": "python",
   "pygments_lexer": "ipython3",
   "version": "3.10.6"
  },
  "orig_nbformat": 4,
  "vscode": {
   "interpreter": {
    "hash": "0c62ecade22fff4c1d31446e36615b3ce67a81b5933d46e8d3b7993b34a0b8fe"
   }
  }
 },
 "nbformat": 4,
 "nbformat_minor": 2
}
